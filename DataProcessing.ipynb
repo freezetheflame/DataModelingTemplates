{
 "cells": [
  {
   "cell_type": "markdown",
   "source": [
    "本文档封装了特征工程和数据清洗、筛选中的一些常用方法，以及一些数据可视化的方法。"
   ],
   "metadata": {
    "collapsed": false
   },
   "id": "a7fd78a3e6496d5e"
  },
  {
   "cell_type": "code",
   "execution_count": null,
   "id": "initial_id",
   "metadata": {
    "collapsed": true
   },
   "outputs": [],
   "source": []
  }
 ],
 "metadata": {
  "kernelspec": {
   "display_name": "Python 3",
   "language": "python",
   "name": "python3"
  },
  "language_info": {
   "codemirror_mode": {
    "name": "ipython",
    "version": 2
   },
   "file_extension": ".py",
   "mimetype": "text/x-python",
   "name": "python",
   "nbconvert_exporter": "python",
   "pygments_lexer": "ipython2",
   "version": "2.7.6"
  }
 },
 "nbformat": 4,
 "nbformat_minor": 5
}
